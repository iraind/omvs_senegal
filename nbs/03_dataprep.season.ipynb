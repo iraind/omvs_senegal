{
 "cells": [
  {
   "cell_type": "markdown",
   "metadata": {},
   "source": [
    "# Seasonal Handling\n",
    "\n",
    "This notebook implements a seasonal handling for hydrological flow. It can be used as feature for other models or to use it as a benchmark model."
   ]
  },
  {
   "cell_type": "code",
   "execution_count": null,
   "metadata": {},
   "outputs": [],
   "source": [
    "#| default_exp dataprep.season"
   ]
  },
  {
   "cell_type": "code",
   "execution_count": null,
   "metadata": {},
   "outputs": [],
   "source": [
    "#| export\n",
    "import pandas as pd"
   ]
  },
  {
   "cell_type": "code",
   "execution_count": null,
   "metadata": {},
   "outputs": [
    {
     "name": "stderr",
     "output_type": "stream",
     "text": [
      "/home/i/Documentos/1_Proyectos/omvs_senegal/.venv/lib/python3.12/site-packages/nbdev/doclinks.py:20: UserWarning: pkg_resources is deprecated as an API. See https://setuptools.pypa.io/en/latest/pkg_resources.html. The pkg_resources package is slated for removal as early as 2025-11-30. Refrain from using this package or pin to Setuptools<81.\n",
      "  import pkg_resources,importlib\n"
     ]
    }
   ],
   "source": [
    "#|hide\n",
    "from pathlib import Path\n",
    "from nbdev.showdoc import *\n",
    "\n",
    "\n",
    "DATA_PATH = Path(\"../testing_data\")\n",
    "OBS_COL = 'Q_obs'"
   ]
  },
  {
   "cell_type": "markdown",
   "metadata": {},
   "source": [
    "#### Data loading"
   ]
  },
  {
   "cell_type": "code",
   "execution_count": null,
   "metadata": {},
   "outputs": [],
   "source": [
    "\n",
    "data = pd.read_csv(\n",
    "    DATA_PATH/'hydro_example.csv', \n",
    "    usecols=['time', OBS_COL], \n",
    "    index_col='time',\n",
    "    converters={\"time\": pd.to_datetime}\n",
    "    )\n",
    "data = data['2012-01-01':]"
   ]
  },
  {
   "cell_type": "markdown",
   "metadata": {},
   "source": [
    "#### Season data handling"
   ]
  },
  {
   "cell_type": "code",
   "execution_count": null,
   "metadata": {},
   "outputs": [],
   "source": [
    "#| export\n",
    "class SeasonalityHandler:\n",
    "    \"\"\"Class to handle seasonality operations in time series data.\n",
    "    \n",
    "    This class provides methods to:\n",
    "    - Compute seasonal patterns based on week of year\n",
    "    - Remove seasonality from data\n",
    "    - Add seasonality back to data\n",
    "    \n",
    "    Attributes:\n",
    "        seasonal_pattern: pd.DataFrame\n",
    "            The computed seasonal pattern, indexed by week of year\n",
    "    \"\"\"\n",
    "    \n",
    "    def __init__(self):\n",
    "        \"\"\"Initialize the SeasonalityHandler.\"\"\"\n",
    "        self.seasonal_pattern = None\n",
    "    \n",
    "    def compute_seasonal_pattern(self, data: pd.DataFrame) -> pd.DataFrame:\n",
    "        \"\"\"Compute mean values for each week of the year to capture seasonal patterns.\"\"\"\n",
    "        if 1 < len(data.columns):\n",
    "            raise ValueError(\"Data must contain only one column\")\n",
    "        seasonal_pattern = data.groupby(data.index.isocalendar().week).mean()\n",
    "        self.seasonal_pattern = seasonal_pattern.rename(columns={data.columns[0]: \"season\"})\n",
    "        return self.seasonal_pattern\n",
    "    \n",
    "    def remove_seasonality(self, data: pd.DataFrame) -> pd.DataFrame:\n",
    "        \"\"\"Remove seasonality from the data.\"\"\"\n",
    "        if self.seasonal_pattern is None:\n",
    "            raise ValueError(\"Seasonal pattern not computed. Call compute_seasonal_pattern first.\")\n",
    "        \n",
    "        deseasonalized = data.copy()\n",
    "        deseasonalized = self._add_week_index(deseasonalized)\n",
    "        deseasonalized = deseasonalized.join(self.seasonal_pattern, on='week')\n",
    "        deseasonalized = deseasonalized[data.columns] - deseasonalized[\"season\"].values.reshape(-1, 1)\n",
    "        deseasonalized = self._remove_week_index(deseasonalized)\n",
    "        return deseasonalized\n",
    "    \n",
    "    def add_seasonality(self, data: pd.DataFrame) -> pd.DataFrame:\n",
    "        \"\"\"Add seasonality back to the data.\"\"\"\n",
    "        if self.seasonal_pattern is None:\n",
    "            raise ValueError(\"Seasonal pattern not computed. Call compute_seasonal_pattern first.\")\n",
    "        \n",
    "        reseasonalized = data.copy()\n",
    "        reseasonalized = self._add_week_index(reseasonalized)\n",
    "        reseasonalized = reseasonalized.join(self.seasonal_pattern, on='week')\n",
    "        reseasonalized = reseasonalized[data.columns] + reseasonalized[\"season\"].values.reshape(-1, 1)\n",
    "        reseasonalized = self._remove_week_index(reseasonalized)\n",
    "        \n",
    "        return reseasonalized\n",
    "    \n",
    "    def _add_week_index(self, data: pd.DataFrame) -> pd.DataFrame:\n",
    "        \"\"\"Add week as index level to the data.\"\"\"\n",
    "        data['week'] = data.index.isocalendar().week\n",
    "        data.set_index('week', inplace=True, append=True)\n",
    "        return data\n",
    "    \n",
    "    def _remove_week_index(self, data: pd.DataFrame) -> pd.DataFrame:\n",
    "        \"\"\"Remove week as index level from the data.\"\"\"\n",
    "        data.reset_index(level='week', drop=True, inplace=True)\n",
    "        return data\n",
    "    \n",
    "    def append_season(self, data: pd.DataFrame) -> pd.DataFrame:\n",
    "        \"\"\"Append the seasonality to the data.\"\"\"\n",
    "        if self.seasonal_pattern is None:\n",
    "            raise ValueError(\"Seasonal pattern not computed. Call compute_seasonal_pattern first.\")\n",
    "        joint = data.copy()\n",
    "        joint = self._add_week_index(joint)\n",
    "        joint = joint.join(self.seasonal_pattern, on='week')\n",
    "        joint = self._remove_week_index(joint)\n",
    "        return joint\n"
   ]
  },
  {
   "cell_type": "markdown",
   "metadata": {},
   "source": [
    "First we create an instance:"
   ]
  },
  {
   "cell_type": "code",
   "execution_count": null,
   "metadata": {},
   "outputs": [],
   "source": [
    "seasonality_handler = SeasonalityHandler()"
   ]
  },
  {
   "cell_type": "code",
   "execution_count": null,
   "metadata": {},
   "outputs": [
    {
     "data": {
      "text/markdown": [
       "---\n",
       "\n",
       "[source](https://github.com/iraind/ombs_senegal/blob/main/ombs_senegal/season.py#L27){target=\"_blank\" style=\"float:right; font-size:smaller\"}\n",
       "\n",
       "### SeasonalityHandler.compute_seasonal_pattern\n",
       "\n",
       ">      SeasonalityHandler.compute_seasonal_pattern\n",
       ">                                                   (data:pandas.core.frame.Data\n",
       ">                                                   Frame)\n",
       "\n",
       "*Compute mean values for each week of the year to capture seasonal patterns.*"
      ],
      "text/plain": [
       "---\n",
       "\n",
       "[source](https://github.com/iraind/ombs_senegal/blob/main/ombs_senegal/season.py#L27){target=\"_blank\" style=\"float:right; font-size:smaller\"}\n",
       "\n",
       "### SeasonalityHandler.compute_seasonal_pattern\n",
       "\n",
       ">      SeasonalityHandler.compute_seasonal_pattern\n",
       ">                                                   (data:pandas.core.frame.Data\n",
       ">                                                   Frame)\n",
       "\n",
       "*Compute mean values for each week of the year to capture seasonal patterns.*"
      ]
     },
     "execution_count": null,
     "metadata": {},
     "output_type": "execute_result"
    }
   ],
   "source": [
    "show_doc(SeasonalityHandler.compute_seasonal_pattern)"
   ]
  },
  {
   "cell_type": "markdown",
   "metadata": {},
   "source": [
    "Now we compute the seasonality of the data as follows:"
   ]
  },
  {
   "cell_type": "code",
   "execution_count": null,
   "metadata": {},
   "outputs": [],
   "source": [
    "season = seasonality_handler.compute_seasonal_pattern(data)"
   ]
  },
  {
   "cell_type": "code",
   "execution_count": null,
   "metadata": {},
   "outputs": [
    {
     "data": {
      "text/markdown": [
       "---\n",
       "\n",
       "[source](https://github.com/iraind/ombs_senegal/blob/main/ombs_senegal/season.py#L35){target=\"_blank\" style=\"float:right; font-size:smaller\"}\n",
       "\n",
       "### SeasonalityHandler.remove_seasonality\n",
       "\n",
       ">      SeasonalityHandler.remove_seasonality (data:pandas.core.frame.DataFrame)\n",
       "\n",
       "*Remove seasonality from the data.*"
      ],
      "text/plain": [
       "---\n",
       "\n",
       "[source](https://github.com/iraind/ombs_senegal/blob/main/ombs_senegal/season.py#L35){target=\"_blank\" style=\"float:right; font-size:smaller\"}\n",
       "\n",
       "### SeasonalityHandler.remove_seasonality\n",
       "\n",
       ">      SeasonalityHandler.remove_seasonality (data:pandas.core.frame.DataFrame)\n",
       "\n",
       "*Remove seasonality from the data.*"
      ]
     },
     "execution_count": null,
     "metadata": {},
     "output_type": "execute_result"
    }
   ],
   "source": [
    "show_doc(SeasonalityHandler.remove_seasonality)"
   ]
  },
  {
   "cell_type": "markdown",
   "metadata": {},
   "source": [
    "Its also possible to remove the seasonality to our data as follows"
   ]
  },
  {
   "cell_type": "code",
   "execution_count": null,
   "metadata": {},
   "outputs": [
    {
     "data": {
      "text/plain": [
       "<Axes: xlabel='time'>"
      ]
     },
     "execution_count": null,
     "metadata": {},
     "output_type": "execute_result"
    },
    {
     "data": {
      "image/png": "[encoded data removed]",
      "text/plain": [
       "<Figure size 640x480 with 1 Axes>"
      ]
     },
     "metadata": {},
     "output_type": "display_data"
    }
   ],
   "source": [
    "deseasonalized_data = seasonality_handler.remove_seasonality(data)\n",
    "deseasonalized_data.plot()"
   ]
  },
  {
   "cell_type": "code",
   "execution_count": null,
   "metadata": {},
   "outputs": [
    {
     "data": {
      "text/markdown": [
       "---\n",
       "\n",
       "[source](https://github.com/iraind/ombs_senegal/blob/main/ombs_senegal/season.py#L47){target=\"_blank\" style=\"float:right; font-size:smaller\"}\n",
       "\n",
       "### SeasonalityHandler.add_seasonality\n",
       "\n",
       ">      SeasonalityHandler.add_seasonality (data:pandas.core.frame.DataFrame)\n",
       "\n",
       "*Add seasonality back to the data.*"
      ],
      "text/plain": [
       "---\n",
       "\n",
       "[source](https://github.com/iraind/ombs_senegal/blob/main/ombs_senegal/season.py#L47){target=\"_blank\" style=\"float:right; font-size:smaller\"}\n",
       "\n",
       "### SeasonalityHandler.add_seasonality\n",
       "\n",
       ">      SeasonalityHandler.add_seasonality (data:pandas.core.frame.DataFrame)\n",
       "\n",
       "*Add seasonality back to the data.*"
      ]
     },
     "execution_count": null,
     "metadata": {},
     "output_type": "execute_result"
    }
   ],
   "source": [
    "show_doc(SeasonalityHandler.add_seasonality)"
   ]
  },
  {
   "cell_type": "markdown",
   "metadata": {},
   "source": [
    "We can also add the seasonality back"
   ]
  },
  {
   "cell_type": "code",
   "execution_count": null,
   "metadata": {},
   "outputs": [
    {
     "data": {
      "text/html": [
       "<div>\n",
       "<style scoped>\n",
       "    .dataframe tbody tr th:only-of-type {\n",
       "        vertical-align: middle;\n",
       "    }\n",
       "\n",
       "    .dataframe tbody tr th {\n",
       "        vertical-align: top;\n",
       "    }\n",
       "\n",
       "    .dataframe thead th {\n",
       "        text-align: right;\n",
       "    }\n",
       "</style>\n",
       "<table border=\"1\" class=\"dataframe\">\n",
       "  <thead>\n",
       "    <tr style=\"text-align: right;\">\n",
       "      <th></th>\n",
       "      <th>Q_obs</th>\n",
       "    </tr>\n",
       "    <tr>\n",
       "      <th>time</th>\n",
       "      <th></th>\n",
       "    </tr>\n",
       "  </thead>\n",
       "  <tbody>\n",
       "    <tr>\n",
       "      <th>2012-01-01</th>\n",
       "      <td>68.839996</td>\n",
       "    </tr>\n",
       "    <tr>\n",
       "      <th>2012-01-02</th>\n",
       "      <td>67.500000</td>\n",
       "    </tr>\n",
       "    <tr>\n",
       "      <th>2012-01-03</th>\n",
       "      <td>67.349998</td>\n",
       "    </tr>\n",
       "  </tbody>\n",
       "</table>\n",
       "</div>"
      ],
      "text/plain": [
       "                Q_obs\n",
       "time                 \n",
       "2012-01-01  68.839996\n",
       "2012-01-02  67.500000\n",
       "2012-01-03  67.349998"
      ]
     },
     "execution_count": null,
     "metadata": {},
     "output_type": "execute_result"
    }
   ],
   "source": [
    "seasonality_handler.add_seasonality(deseasonalized_data).head(3)"
   ]
  },
  {
   "cell_type": "code",
   "execution_count": null,
   "metadata": {},
   "outputs": [
    {
     "data": {
      "text/markdown": [
       "---\n",
       "\n",
       "[source](https://github.com/iraind/ombs_senegal/blob/main/ombs_senegal/season.py#L71){target=\"_blank\" style=\"float:right; font-size:smaller\"}\n",
       "\n",
       "### SeasonalityHandler.append_season\n",
       "\n",
       ">      SeasonalityHandler.append_season (data:pandas.core.frame.DataFrame)\n",
       "\n",
       "*Append the seasonality to the data.*"
      ],
      "text/plain": [
       "---\n",
       "\n",
       "[source](https://github.com/iraind/ombs_senegal/blob/main/ombs_senegal/season.py#L71){target=\"_blank\" style=\"float:right; font-size:smaller\"}\n",
       "\n",
       "### SeasonalityHandler.append_season\n",
       "\n",
       ">      SeasonalityHandler.append_season (data:pandas.core.frame.DataFrame)\n",
       "\n",
       "*Append the seasonality to the data.*"
      ]
     },
     "execution_count": null,
     "metadata": {},
     "output_type": "execute_result"
    }
   ],
   "source": [
    "show_doc(SeasonalityHandler.append_season)"
   ]
  },
  {
   "cell_type": "markdown",
   "metadata": {},
   "source": [
    "Or we can append the seasonal data as a new column as follows"
   ]
  },
  {
   "cell_type": "code",
   "execution_count": null,
   "metadata": {},
   "outputs": [
    {
     "data": {
      "text/html": [
       "<div>\n",
       "<style scoped>\n",
       "    .dataframe tbody tr th:only-of-type {\n",
       "        vertical-align: middle;\n",
       "    }\n",
       "\n",
       "    .dataframe tbody tr th {\n",
       "        vertical-align: top;\n",
       "    }\n",
       "\n",
       "    .dataframe thead th {\n",
       "        text-align: right;\n",
       "    }\n",
       "</style>\n",
       "<table border=\"1\" class=\"dataframe\">\n",
       "  <thead>\n",
       "    <tr style=\"text-align: right;\">\n",
       "      <th></th>\n",
       "      <th>Q_obs</th>\n",
       "      <th>season</th>\n",
       "    </tr>\n",
       "    <tr>\n",
       "      <th>time</th>\n",
       "      <th></th>\n",
       "      <th></th>\n",
       "    </tr>\n",
       "  </thead>\n",
       "  <tbody>\n",
       "    <tr>\n",
       "      <th>2012-01-01</th>\n",
       "      <td>68.839996</td>\n",
       "      <td>90.025156</td>\n",
       "    </tr>\n",
       "    <tr>\n",
       "      <th>2012-01-02</th>\n",
       "      <td>67.500000</td>\n",
       "      <td>79.543198</td>\n",
       "    </tr>\n",
       "    <tr>\n",
       "      <th>2012-01-03</th>\n",
       "      <td>67.349998</td>\n",
       "      <td>79.543198</td>\n",
       "    </tr>\n",
       "  </tbody>\n",
       "</table>\n",
       "</div>"
      ],
      "text/plain": [
       "                Q_obs     season\n",
       "time                            \n",
       "2012-01-01  68.839996  90.025156\n",
       "2012-01-02  67.500000  79.543198\n",
       "2012-01-03  67.349998  79.543198"
      ]
     },
     "execution_count": null,
     "metadata": {},
     "output_type": "execute_result"
    }
   ],
   "source": [
    "seasonality_handler.append_season(data).head(3)"
   ]
  },
  {
   "cell_type": "code",
   "execution_count": null,
   "metadata": {},
   "outputs": [],
   "source": [
    "#| hide\n",
    "import nbdev; nbdev.nbdev_export()"
   ]
  }
 ],
 "metadata": {
  "kernelspec": {
   "display_name": "python3",
   "language": "python",
   "name": "python3"
  }
 },
 "nbformat": 4,
 "nbformat_minor": 4
}
